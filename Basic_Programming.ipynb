{
 "cells": [
  {
   "cell_type": "markdown",
   "metadata": {},
   "source": [
    "<div style=\"text-align: center\"><img src=\"https://www.python.org/static/img/python-logo.png\"></div>"
   ]
  },
  {
   "cell_type": "markdown",
   "metadata": {},
   "source": [
    "# Perkenalan Python\n",
    "\n",
    "Python adalah sebuah bahasa pemrograman *open-source* yang sangat popular di kalangan programmer dan saintis. Karena *open_source* perkembangan Python sangatlah cepat didukung komunitas *developer* yang sangat kuat dan aktif. Selain itu seiring perkembangannya, Python juga semakin mudah digunakan di berbagai jenis sistem operasi dan *environment*, serta untuk berbagai penggunaan mulai dari pemrograman *web, ai,* hingga *robotik*. Python adalah bahas yang digunakan oleh berbagai universitas dan perusahaan baik dalam konteks akademik maupun profesional.\n",
    "\n",
    "Beberapa referensi mengenai Python dapat dilihat di [python.org](https://www.python.org/) dan [Python for Beginners](https://www.python.org/about/gettingstarted/).\n",
    "\n",
    "File ini adalah sebuah file *walkthrough* dalam format **Jupyter notebook** (yang akan dijelaskan nanti) dari tutorial berikut [python.org introductory tutorial](https://docs.python.org/3.5/tutorial/introduction.html), tentunya dengan berbagai perubahan yang diperlukan. Karena semua kode terdapat pada kolom-kolom kode, maka **kamu dapat mengeksekusi setiap kolom alih-alih menggunakan window Python yang lain*.\n",
    "\n",
    "File perkenalan ini dituliskan dengan Python 3.6.7 tapi secara umum dapat berlaku untuk versi-versi Python 3.x lainnya.\n",
    "\n",
    "Materi ini adalah Copyright (c) 2001-2018 Python Software Foundation.\n",
    "\n",
    "> **Catatan**: Notebook ini didesain agar kamu dapat menjalankan kolom kode satu demi satu, dan beberapa kolom kode mengandung beberapa error yang disengaja untuk menjelaskan tentang konsep error pada Python. Karena ini, jika kamu melakukan perintah **Cell** > **Run All**, maka beberapa kolom kode akan mengeluarkan peringatan error dan tidak dapat dieksekusi. Untuk melanjutkan proses ekseskusi program, gunakan perintah **Cell** > **Run All Below** dari kolom setelah error."
   ]
  },
  {
   "cell_type": "markdown",
   "metadata": {},
   "source": [
    "# Basic Python and Installation\n",
    "8 Agustus 2019\n",
    "\n",
    "Di pertemuan ini, kita akan melakukan instalasi Python di komputer kita masing-masing, serta juga mempelajari perintah-perintah dasar dalam bahasa pemrograman Python."
   ]
  },
  {
   "cell_type": "markdown",
   "metadata": {},
   "source": [
    "## 1. Instalasi Python\n",
    "\n",
    "Berikut adalah langkah-langkah yang harus dilalui:\n",
    "1. Masuk ke link berikut https://www.anaconda.com/distribution/\n",
    "2. Scroll dan cari bagian berikut:\n",
    "   * Untuk komputer dengan sistem operasi Linux:\n",
    "       <img src=\"./Linux.png\" alt=\"Linux\" style=\"width: 500px;\"/>\n",
    "   * Untuk komputer dengan sistem operasi Windows:\n",
    "       <img src=\"./Windows.png\" alt=\"Windows\" style=\"width: 500px;\"/>\n",
    "   * Untuk komputer dengan sistem operasi MacOS:\n",
    "       <img src=\"./macOS.png\" alt=\"MacOS\" style=\"width: 500px;\"/>\n",
    "3. Kita akan menggunakan Python versi 3.7 untuk kelas ini. Oleh karena itu, klik **Download** pada bagian **Python 3.7 version**. Ukuran file bervariasi dari 486MB - 613MB.\n",
    "4. Ikuti tahap instalasi\n",
    "5. Untuk menguji apakah instalasi berlangsung dengan baik, lakukan tiga hal berikut:\n",
    "    1. Terminal/Command Prompt\n",
    "        * Untuk Linux, buka *Shell*. Lalu, ketikkan `python3`, tampilan berikut akan muncul\n",
    "           <img src=\"./CMD-Windows.png\" alt=\"cmd-windows\" style=\"width: 500px;\"/>\n",
    "        * Untuk Windows, buka *Command Prompt*. Lalu, ketikkan `python3`, tampilan berikut akan muncul\n",
    "           <img src=\"./CMD-Windows.png\" alt=\"cmd-windows\" style=\"width: 500px;\"/>\n",
    "        * Untuk MacOS, buka *Terminal*. Lalu, ketikkan `python3`, tampilan berikut akan muncul\n",
    "           <img src=\"./Terminal-macOS.png\" alt=\"terminal-linux/unix\" style=\"width: 500px;\"/>                \n",
    "    2. Spyder-Anaconda\n",
    "        * Buka Anaconda-Navigator, lalu pilih Spyder. Kamu akan melihat tampilan berikut.\n",
    "           <img src=\"./CMD-Windows.png\" alt=\"anaconda\" style=\"width: 500px;\"/>\n",
    "    3. Jupyter Notebook\n",
    "        * Buka terminal/command prompt tergantung Sistem Operasi komputer mu, lalu pilih folder di mana kamu ingin menyimpan file ini. Ketikkan `jupyter notebook`"
   ]
  },
  {
   "cell_type": "markdown",
   "metadata": {},
   "source": [
    "## 2. *Environment* Python\n",
    "\n",
    "Ketiga cara yang disebut di atas: *terminal*, *spyder*, dan *jupyter* adalah tiga *environment* yang akan kita gunakan sepanjang kelas **Basic Programming** ini.\n",
    "\n",
    "1. Terminal/Shell/Command Prompt\n",
    "\n",
    "    **Terminal/Shell/Command Prompt**  adalah sebuah *console* yang menginterpretasikan perintah baris per baris, atau yang biasa disebut dengan istilah *command-line interpreter*. Terminal/Shell/Command Prompt berfungsi untuk menerima input, menjalankan program lain, dan mengeluarkan output.\n",
    "\n",
    "    Perintah `python3` yang dituliskan dalam *console* ini memerintah *console* untuk membuka program Python3 di dalam *environment console* yang bersangkutan.\n",
    "\n",
    "    Selanjutnya setiap perintah yang dituliskan pada *console* akan dijalankan oleh program Python. Environment ini (yang menjalankan perintah baris per baris) biasa disebut juga dengan istilah **Python Interpreter**. Kita akan menggunakan *console* utamanya untuk mencoba perintah-perintah dan operasi-operasi dasar.\n",
    "\n",
    "\n",
    "2. Spyder-Anaconda\n",
    "\n",
    "    Berbeda dengan *console*, **Spyder** adalah sebuah *environment* yang berbasis *script*. Artinya, setiap perintah yang dituliskan pada **Sypder** bukan dijalankan baris per baris (seperti pada *console*), melainkan akan dijalankan secara sekaligus.\n",
    "\n",
    "    **Spyder** akan bermanfaat untuk menuliskan program yang membutuhkan struktur lebih panjang dan kompleks.\n",
    "\n",
    "\n",
    "3. Jupyter Notebook\n",
    "\n",
    "    Berbeda lagi dengan *console dan *spyder, **Jupyter Notebook** adalah sebuah aplikasi web online yang memudahkan kita untuk menuliskan dan membagikan kode program kita beserta penjelasannya dengan orang lain. Sebagian besar file tutorial dalam kelas ini akan dibagikan dalam bentuk file **Jupyter Notebook** yang memiliki ekstensi `.ipynb`"
   ]
  },
  {
   "cell_type": "markdown",
   "metadata": {},
   "source": [
    "# 3. Dasar-dasar Python\n",
    "\n",
    "Kita akan memelajari perintah-perintah dasar dalam Python"
   ]
  },
  {
   "cell_type": "markdown",
   "metadata": {},
   "source": [
    "## Comments\n",
    "\n",
    "Banyak dari contoh-contoh setelah ini akan mengandung berbagai *comments*. *Comments* dalam Python dimulai dengan karakter *hash*, `#`, dan berlanjut sampai ke akhir baris, tapi tidak dalam sebuah `string`. Karakter hash dalam sebuah `string` diinterpretasikan sebagai mana mestinya, yaitu sebagai karakter hash.\n",
    "\n",
    "*Comments* umumnya digunakan untuk memberikan penjelasan dari sebuah baris kode. Dalam kelas ini, *comments* akan banyak digunakan untuk menjelaskan apa maksud dari sebuah baris kode.\n",
    "\n",
    "Contoh:"
   ]
  },
  {
   "cell_type": "code",
   "execution_count": 35,
   "metadata": {},
   "outputs": [
    {
     "name": "stdout",
     "output_type": "stream",
     "text": [
      "# This is not a comment because it's inside quotes.\n"
     ]
    }
   ],
   "source": [
    "# this is the first comment\n",
    "spam = 1  # and this is the second comment\n",
    "          # ... and now a third!\n",
    "text = \"# This is not a comment because it's inside quotes.\"\n",
    "print(text)"
   ]
  },
  {
   "cell_type": "markdown",
   "metadata": {},
   "source": [
    "## Eksplorasi tipe-tipe data dasar\n",
    "\n",
    "Mari kita coba beberapa perintah dasar Python untuk mengeksplorasi bilangan, deret huruf (strings), dan daftar (list)."
   ]
  },
  {
   "cell_type": "markdown",
   "metadata": {},
   "source": [
    "### Bilangan\n",
    "\n",
    "Python interpreter dapat berguna sebagai sebuah kalkulator: ketikkan sebuah ekspresi matematika dan Python interpreter akan mengeluarkan nilai yang dimaksud.\n",
    "\n",
    "Ekspresi/syntax dari operator-operator matematika ini sesuai dengan simbol-simbol yang biasa kita gunakan `+`, `-`, `*` dan `/`; tanda kurung (`()`), seperti biasa, bisa digunakan untuk mengelompokkan operasi untuk memprioritaskan urutan operasi. Contohnya:"
   ]
  },
  {
   "cell_type": "code",
   "execution_count": 4,
   "metadata": {},
   "outputs": [
    {
     "data": {
      "text/plain": [
       "5"
      ]
     },
     "execution_count": 4,
     "metadata": {},
     "output_type": "execute_result"
    }
   ],
   "source": [
    "2 + 3"
   ]
  },
  {
   "cell_type": "code",
   "execution_count": 5,
   "metadata": {},
   "outputs": [
    {
     "data": {
      "text/plain": [
       "20"
      ]
     },
     "execution_count": 5,
     "metadata": {},
     "output_type": "execute_result"
    }
   ],
   "source": [
    "50 - 5 * 6 #Perkalian diprioritaskan"
   ]
  },
  {
   "cell_type": "code",
   "execution_count": 6,
   "metadata": {},
   "outputs": [
    {
     "data": {
      "text/plain": [
       "270"
      ]
     },
     "execution_count": 6,
     "metadata": {},
     "output_type": "execute_result"
    }
   ],
   "source": [
    "(50 - 5) * 6 #Tanda kurung mengubah urutan prioritas operasi matematika"
   ]
  },
  {
   "cell_type": "code",
   "execution_count": 7,
   "metadata": {},
   "outputs": [
    {
     "data": {
      "text/plain": [
       "67.5"
      ]
     },
     "execution_count": 7,
     "metadata": {},
     "output_type": "execute_result"
    }
   ],
   "source": [
    "(50 - 5) * 6 / 4"
   ]
  },
  {
   "cell_type": "code",
   "execution_count": 8,
   "metadata": {},
   "outputs": [
    {
     "data": {
      "text/plain": [
       "1.6"
      ]
     },
     "execution_count": 8,
     "metadata": {},
     "output_type": "execute_result"
    }
   ],
   "source": [
    "8 / 5  # Pembagian akan menghasilkan nilai desimal."
   ]
  },
  {
   "cell_type": "markdown",
   "metadata": {},
   "source": [
    "Bilangan bulat (contohnya: `2`, `4`, `20`) memiliki tipe data [`int`](https://docs.python.org/3.5/library/functions.html#int), sedangkan bilangan dengan desimal (e.g. `5.0`, `1.6`) memiliki tipe data [`float`](https://docs.python.org/3.5/library/functions.html#float). Kita akan melihat lebih banyak tipe data numerik lagi selanjutnya dalam kelas ini.\n",
    "\n",
    "Pembagian (`/`) selalu menghasilkan tipe data `float`. Untuk melakukan [floor division](https://docs.python.org/3.5/glossary.html#term-floor-division) dan mendapatkan hasil `int` (menghilangkan nilai desimalnya) kamu bisa menggunakan operator `//`; untuk menghitung sisa bagi gunakan operator `%`:"
   ]
  },
  {
   "cell_type": "code",
   "execution_count": 9,
   "metadata": {},
   "outputs": [
    {
     "data": {
      "text/plain": [
       "5.666666666666667"
      ]
     },
     "execution_count": 9,
     "metadata": {},
     "output_type": "execute_result"
    }
   ],
   "source": [
    "17 / 3  # Pembagian sederhana seperti ini mengeluarkan nilai dengan tipe data float."
   ]
  },
  {
   "cell_type": "code",
   "execution_count": 10,
   "metadata": {},
   "outputs": [
    {
     "data": {
      "text/plain": [
       "5"
      ]
     },
     "execution_count": 10,
     "metadata": {},
     "output_type": "execute_result"
    }
   ],
   "source": [
    "17 // 3  # Fungsi floor (pembagian dengan pembulatan ke bawah) menghilangkan bagian desimal."
   ]
  },
  {
   "cell_type": "code",
   "execution_count": 11,
   "metadata": {},
   "outputs": [
    {
     "data": {
      "text/plain": [
       "2"
      ]
     },
     "execution_count": 11,
     "metadata": {},
     "output_type": "execute_result"
    }
   ],
   "source": [
    "17 % 3  # Operator % mengeluarkan sisa bagi pembagian."
   ]
  },
  {
   "cell_type": "code",
   "execution_count": 12,
   "metadata": {},
   "outputs": [
    {
     "data": {
      "text/plain": [
       "17"
      ]
     },
     "execution_count": 12,
     "metadata": {},
     "output_type": "execute_result"
    }
   ],
   "source": [
    "5 * 3 + 2  # hasil * pembagi + sisa bagi"
   ]
  },
  {
   "cell_type": "markdown",
   "metadata": {},
   "source": [
    "Gunakan operator `**` untuk menghitung pangkat:"
   ]
  },
  {
   "cell_type": "code",
   "execution_count": 13,
   "metadata": {},
   "outputs": [
    {
     "data": {
      "text/plain": [
       "25"
      ]
     },
     "execution_count": 13,
     "metadata": {},
     "output_type": "execute_result"
    }
   ],
   "source": [
    "5 ** 2  # 5 dikuadratkan"
   ]
  },
  {
   "cell_type": "code",
   "execution_count": 14,
   "metadata": {},
   "outputs": [
    {
     "data": {
      "text/plain": [
       "128"
      ]
     },
     "execution_count": 14,
     "metadata": {},
     "output_type": "execute_result"
    }
   ],
   "source": [
    "2 ** 7  # 2 pangkat 7"
   ]
  },
  {
   "cell_type": "markdown",
   "metadata": {},
   "source": [
    "`**` memiliki prioritas operasi lebih tinggi dari operasi `-`; jika ingin tanda negatif juga dipangkatkan, gunakan tanda kurung:"
   ]
  },
  {
   "cell_type": "code",
   "execution_count": 16,
   "metadata": {},
   "outputs": [
    {
     "data": {
      "text/plain": [
       "-9"
      ]
     },
     "execution_count": 16,
     "metadata": {},
     "output_type": "execute_result"
    }
   ],
   "source": [
    "-3**2  # sama seperti -(3**2)"
   ]
  },
  {
   "cell_type": "code",
   "execution_count": 17,
   "metadata": {},
   "outputs": [
    {
     "data": {
      "text/plain": [
       "9"
      ]
     },
     "execution_count": 17,
     "metadata": {},
     "output_type": "execute_result"
    }
   ],
   "source": [
    "(-3)**2"
   ]
  },
  {
   "cell_type": "markdown",
   "metadata": {},
   "source": [
    "Tanda sama dengan (`=`) artinya adalah *assignment*, memasukkan sebuah nilai ke variabel (kita akan bahas lebih lanjut di pertemuan-pertemuan selanjutnya):"
   ]
  },
  {
   "cell_type": "code",
   "execution_count": 18,
   "metadata": {},
   "outputs": [
    {
     "data": {
      "text/plain": [
       "9000"
      ]
     },
     "execution_count": 18,
     "metadata": {},
     "output_type": "execute_result"
    }
   ],
   "source": [
    "width = 20\n",
    "height = 5 * 90\n",
    "width * height"
   ]
  },
  {
   "cell_type": "markdown",
   "metadata": {},
   "source": [
    "Jika sebuah variabel tidak terdefinisi (assigned a value), using it produces an error:"
   ]
  },
  {
   "cell_type": "code",
   "execution_count": 20,
   "metadata": {},
   "outputs": [
    {
     "ename": "NameError",
     "evalue": "name 'n' is not defined",
     "output_type": "error",
     "traceback": [
      "\u001b[0;31m---------------------------------------------------------------------------\u001b[0m",
      "\u001b[0;31mNameError\u001b[0m                                 Traceback (most recent call last)",
      "\u001b[0;32m<ipython-input-20-73a0a039e985>\u001b[0m in \u001b[0;36m<module>\u001b[0;34m()\u001b[0m\n\u001b[0;32m----> 1\u001b[0;31m \u001b[0mn\u001b[0m  \u001b[0;31m# Variabel yang belum terdefinisikan.\u001b[0m\u001b[0;34m\u001b[0m\u001b[0;34m\u001b[0m\u001b[0m\n\u001b[0m",
      "\u001b[0;31mNameError\u001b[0m: name 'n' is not defined"
     ]
    }
   ],
   "source": [
    "n  # Variabel yang belum terdefinisikan."
   ]
  },
  {
   "cell_type": "markdown",
   "metadata": {},
   "source": [
    "Python secara otomatis memproses bilangan-bilangan menjadi *floating point*, ketika dibutuhkan:"
   ]
  },
  {
   "cell_type": "code",
   "execution_count": 21,
   "metadata": {},
   "outputs": [
    {
     "data": {
      "text/plain": [
       "7.5"
      ]
     },
     "execution_count": 21,
     "metadata": {},
     "output_type": "execute_result"
    }
   ],
   "source": [
    "3 * 3.75 / 1.5"
   ]
  },
  {
   "cell_type": "code",
   "execution_count": 22,
   "metadata": {},
   "outputs": [
    {
     "data": {
      "text/plain": [
       "3.5"
      ]
     },
     "execution_count": 22,
     "metadata": {},
     "output_type": "execute_result"
    }
   ],
   "source": [
    "7.0 / 2"
   ]
  },
  {
   "cell_type": "markdown",
   "metadata": {},
   "source": [
    "Dalam mode interaktif di Jupyter Notebooks, hasil dari operasi terakhir secara otomatis tersimpan dalam variabel `_`. Hal ini berarti ketika kamu menggunakan Python sebagai kalkulator, kamu bisa dengan mudah melanjutkan operasi yang ingin kamu lakukan. Contohnya:"
   ]
  },
  {
   "cell_type": "code",
   "execution_count": 25,
   "metadata": {},
   "outputs": [
    {
     "data": {
      "text/plain": [
       "12.5625"
      ]
     },
     "execution_count": 25,
     "metadata": {},
     "output_type": "execute_result"
    }
   ],
   "source": [
    "tax = 12.5 / 100\n",
    "price = 100.50\n",
    "price * tax"
   ]
  },
  {
   "cell_type": "code",
   "execution_count": 26,
   "metadata": {},
   "outputs": [
    {
     "data": {
      "text/plain": [
       "113.0625"
      ]
     },
     "execution_count": 26,
     "metadata": {},
     "output_type": "execute_result"
    }
   ],
   "source": [
    "price + _"
   ]
  },
  {
   "cell_type": "code",
   "execution_count": 27,
   "metadata": {},
   "outputs": [
    {
     "data": {
      "text/plain": [
       "113.06"
      ]
     },
     "execution_count": 27,
     "metadata": {},
     "output_type": "execute_result"
    }
   ],
   "source": [
    "round(_, 2)"
   ]
  },
  {
   "cell_type": "markdown",
   "metadata": {},
   "source": [
    "Perlakukan variabel `_` sebagai variabel yang *read-only*. Jangan secara eksplisit memasukkan nilai ke variabel `_`--jika kamu melakukan itu membuat  creates an independent local variable with the same name, thereby masking the built-in variable with its magic behavior.\n",
    "\n",
    "Tipe data selain `int` dan `float`, Python juga mendukung berbagai tipe data bilangan, seperti [`Decimal`](https://docs.python.org/3.5/library/decimal.html#decimal.Decimal) dan [`Fraction`](https://docs.python.org/3.5/library/fractions.html#fractions.Fraction). Python juga memiliki *built-in support* untuk [complex numbers](https://docs.python.org/3.5/library/stdtypes.html#typesnumeric), dan menggunakan variabel `j` atau `J` untuk mengindikasikan $\\sqrt{-1}$ (e.g. `3+5j`)."
   ]
  },
  {
   "cell_type": "markdown",
   "metadata": {},
   "source": [
    "### Strings (Deret huruf)\n",
    "\n",
    "Selain bilangan, Python dapat juga memanipulasi deret huruf (strings). Strings dapat dinyatakan dengan menggunakan *single-quotes* (`'...'`) atau *double-quotes* (`\"...\"`) dan akan menghasilkan yang sama. Gunakan tanda `\\` untuk menuliskan karakter kutip dalam sebuah string:"
   ]
  },
  {
   "cell_type": "code",
   "execution_count": 29,
   "metadata": {},
   "outputs": [
    {
     "data": {
      "text/plain": [
       "'spam eggs'"
      ]
     },
     "execution_count": 29,
     "metadata": {},
     "output_type": "execute_result"
    }
   ],
   "source": [
    "'spam eggs'  # Single quotes."
   ]
  },
  {
   "cell_type": "code",
   "execution_count": 30,
   "metadata": {},
   "outputs": [
    {
     "data": {
      "text/plain": [
       "\"doesn't\""
      ]
     },
     "execution_count": 30,
     "metadata": {},
     "output_type": "execute_result"
    }
   ],
   "source": [
    "'doesn\\'t'  # Use \\' to escape the single quote..."
   ]
  },
  {
   "cell_type": "code",
   "execution_count": 31,
   "metadata": {},
   "outputs": [
    {
     "data": {
      "text/plain": [
       "\"doesn't\""
      ]
     },
     "execution_count": 31,
     "metadata": {},
     "output_type": "execute_result"
    }
   ],
   "source": [
    "\"doesn't\"  # ...or use double quotes instead."
   ]
  },
  {
   "cell_type": "code",
   "execution_count": 32,
   "metadata": {},
   "outputs": [
    {
     "data": {
      "text/plain": [
       "'\"Yes,\" he said.'"
      ]
     },
     "execution_count": 32,
     "metadata": {},
     "output_type": "execute_result"
    }
   ],
   "source": [
    "'\"Yes,\" he said.'"
   ]
  },
  {
   "cell_type": "code",
   "execution_count": 33,
   "metadata": {},
   "outputs": [
    {
     "data": {
      "text/plain": [
       "'\"Yes,\" he said.'"
      ]
     },
     "execution_count": 33,
     "metadata": {},
     "output_type": "execute_result"
    }
   ],
   "source": [
    "\"\\\"Yes,\\\" he said.\""
   ]
  },
  {
   "cell_type": "code",
   "execution_count": 34,
   "metadata": {},
   "outputs": [
    {
     "data": {
      "text/plain": [
       "'\"Isn\\'t,\" she said.'"
      ]
     },
     "execution_count": 34,
     "metadata": {},
     "output_type": "execute_result"
    }
   ],
   "source": [
    "'\"Isn\\'t,\" she said.'"
   ]
  },
  {
   "cell_type": "code",
   "execution_count": null,
   "metadata": {},
   "outputs": [],
   "source": []
  }
 ],
 "metadata": {
  "kernelspec": {
   "display_name": "Python 3",
   "language": "python",
   "name": "python3"
  },
  "language_info": {
   "codemirror_mode": {
    "name": "ipython",
    "version": 3
   },
   "file_extension": ".py",
   "mimetype": "text/x-python",
   "name": "python",
   "nbconvert_exporter": "python",
   "pygments_lexer": "ipython3",
   "version": "3.7.3"
  }
 },
 "nbformat": 4,
 "nbformat_minor": 2
}
